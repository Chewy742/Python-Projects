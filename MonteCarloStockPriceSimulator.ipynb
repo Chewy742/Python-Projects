{
 "cells": [
  {
   "cell_type": "markdown",
   "metadata": {},
   "source": [
    "## My First Header\n",
    "\n",
    "- My first list item\n",
    "- My second list item \n"
   ]
  },
  {
   "cell_type": "code",
   "execution_count": 1,
   "metadata": {},
   "outputs": [
    {
     "name": "stdout",
     "output_type": "stream",
     "text": [
      "Enter the radius of a circle: 4\n",
      "You entered  4  which is of type  <class 'str'>\n",
      "The cirumference is: 25.132741228718345 , and the area is: 50.26548245743669\n"
     ]
    }
   ],
   "source": [
    "#!/usr/bin/env python3\n",
    "# -*- coding: utf-8 -*-\n",
    "\"\"\"\n",
    "Created on Mon Jan  1 10:38:37 2018\n",
    "\n",
    "@author: donaldferguson\n",
    "\"\"\"\n",
    "\n",
    "# This program allows a user to input the radius on a circle.\n",
    "# We want to teach the formula to young children. So, we only\n",
    "# allow the radius to be an integer.\n",
    "\n",
    "# Almost every program you write will use \"programs\" others have written.\n",
    "# Your successful programs will become programs that others use.\n",
    "# Any non-trivial program requires a team. The team members assemble\n",
    "# the solution from individual subcomponents they build.\n",
    "# The subcomponents and reusable parts are called modules.\n",
    "\n",
    "import math     # We just imported our first module.\n",
    "\n",
    "# Programs, like mathematical functions, are only useful if they\n",
    "# operate on many user provided inputs. To start, we will get the input from\n",
    "# the \"command line.\"\n",
    "\n",
    "# Print a prompt asking for the radius.\n",
    "# Set a variable to the input value.\n",
    "radius_str = input('Enter the radius of a circle: ')\n",
    "\n",
    "# Let's double check that we got the input.\n",
    "print(\"You entered \", radius_str, \" which is of type \", type(radius_str))\n",
    "\n",
    "# We are going to do 'math' on the input. So, we should\n",
    "# covert it to an Integer.\n",
    "radius_int = int(radius_str)\n",
    "\n",
    "# The circumfrence is 2 times pi time the radius.\n",
    "# The area is pi * r squared.\n",
    "circumference = 2 * math.pi * radius_int\n",
    "area = math.pi * (radius_int ** 2)\n",
    "\n",
    "# Python conventions do not like lines that are too long.\n",
    "# \\ means that we will continue the command on the next line.\n",
    "print (\"The cirumference is:\",circumference,  \\\n",
    "      \", and the area is:\",area)"
   ]
  },
  {
   "cell_type": "code",
   "execution_count": 21,
   "metadata": {},
   "outputs": [
    {
     "name": "stdout",
     "output_type": "stream",
     "text": [
      "AGN2771\n",
      "['2771', 'Achuth', 'Nair']\n"
     ]
    }
   ],
   "source": [
    "# Printing out my uni \n",
    "first_name = \"Achuth\"\n",
    "middle_name = \"Galibanas\"\n",
    "last_name = \"Nair\"\n",
    "uni_suffix = \"2771\"\n",
    "\n",
    "uni = first_name[0] + middle_name[0]+ last_name[0] + uni_suffix\n",
    "print(uni)\n",
    "\n",
    "#Make a list and edit it \n",
    "full_name = [\"Achuth\", \"Galibanas\", \"Nair\", \"2771\"]\n",
    "del(full_name[1])\n",
    "\n",
    "full_name.insert(0, full_name.pop(2))\n",
    "print(full_name)\n",
    "\n"
   ]
  }
 ],
 "metadata": {
  "kernelspec": {
   "display_name": "Python 3",
   "language": "python",
   "name": "python3"
  },
  "language_info": {
   "codemirror_mode": {
    "name": "ipython",
    "version": 3
   },
   "file_extension": ".py",
   "mimetype": "text/x-python",
   "name": "python",
   "nbconvert_exporter": "python",
   "pygments_lexer": "ipython3",
   "version": "3.6.3"
  }
 },
 "nbformat": 4,
 "nbformat_minor": 2
}
